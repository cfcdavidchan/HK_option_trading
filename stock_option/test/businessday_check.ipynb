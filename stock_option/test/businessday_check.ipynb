{
 "cells": [
  {
   "cell_type": "code",
   "execution_count": 2,
   "metadata": {},
   "outputs": [],
   "source": [
    "import QuantLib as ql\n",
    "import datetime"
   ]
  },
  {
   "cell_type": "code",
   "execution_count": null,
   "metadata": {},
   "outputs": [],
   "source": [
    "today = ql.Date_todaysDate()"
   ]
  },
  {
   "cell_type": "code",
   "execution_count": 17,
   "metadata": {},
   "outputs": [
    {
     "data": {
      "text/plain": [
       "Date(12,4,2018)"
      ]
     },
     "execution_count": 17,
     "metadata": {},
     "output_type": "execute_result"
    }
   ],
   "source": [
    "ql.Date_todaysDate()"
   ]
  },
  {
   "cell_type": "code",
   "execution_count": 27,
   "metadata": {},
   "outputs": [],
   "source": [
    "calendar = ql.HongKong()\n",
    "\n",
    "def ql_date_formate(day, month, year):\n",
    "    return ql.Date(day, month, year)\n",
    "\n",
    "def business_day_checker(date):\n",
    "#    calendar = ql.HongKong()\n",
    "    return calendar.isBusinessDay(date)\n",
    "\n",
    "def date_to_string(date):\n",
    "    datetime_formate = datetime.datetime(date.year(), date.month(), date.dayOfMonth())\n",
    "    return datetime_formate.strftime(\"%y%m%d\")\n",
    "\n",
    "def business_day_preiod_list(preiod, start_day = ql.Date_todaysDate(), formate = 'ql'):\n",
    "    preiod_list = list()\n",
    "    preiod_list.append(start_day)\n",
    "    for i in range(1, preiod +1):\n",
    "        min_period = ql.Period(-i, ql.Days)\n",
    "        date = calendar.advance(start_day, min_period)\n",
    "        \n",
    "        if formate == 'str':\n",
    "            date = date_to_string(date)\n",
    "        preiod_list.append(date)\n",
    "    \n",
    "    return preiod_list"
   ]
  },
  {
   "cell_type": "code",
   "execution_count": 4,
   "metadata": {},
   "outputs": [
    {
     "data": {
      "text/plain": [
       "True"
      ]
     },
     "execution_count": 4,
     "metadata": {},
     "output_type": "execute_result"
    }
   ],
   "source": [
    "business_day_checker(ql.Date(11, 4, 2018))"
   ]
  },
  {
   "cell_type": "code",
   "execution_count": 28,
   "metadata": {},
   "outputs": [
    {
     "data": {
      "text/plain": [
       "[Date(12,4,2018),\n",
       " '180411',\n",
       " '180410',\n",
       " '180409',\n",
       " '180406',\n",
       " '180404',\n",
       " '180403',\n",
       " '180329',\n",
       " '180328',\n",
       " '180327',\n",
       " '180326',\n",
       " '180323',\n",
       " '180322',\n",
       " '180321',\n",
       " '180320',\n",
       " '180319',\n",
       " '180316',\n",
       " '180315',\n",
       " '180314',\n",
       " '180313',\n",
       " '180312',\n",
       " '180309',\n",
       " '180308',\n",
       " '180307',\n",
       " '180306',\n",
       " '180305',\n",
       " '180302',\n",
       " '180301',\n",
       " '180228',\n",
       " '180227',\n",
       " '180226',\n",
       " '180223',\n",
       " '180222',\n",
       " '180221',\n",
       " '180220',\n",
       " '180215',\n",
       " '180214',\n",
       " '180213',\n",
       " '180212',\n",
       " '180209',\n",
       " '180208',\n",
       " '180207',\n",
       " '180206',\n",
       " '180205',\n",
       " '180202',\n",
       " '180201',\n",
       " '180131',\n",
       " '180130',\n",
       " '180129',\n",
       " '180126',\n",
       " '180125',\n",
       " '180124',\n",
       " '180123',\n",
       " '180122',\n",
       " '180119',\n",
       " '180118',\n",
       " '180117',\n",
       " '180116',\n",
       " '180115',\n",
       " '180112',\n",
       " '180111']"
      ]
     },
     "execution_count": 28,
     "metadata": {},
     "output_type": "execute_result"
    }
   ],
   "source": [
    "business_day_preiod_list(60, formate = 'str')"
   ]
  },
  {
   "cell_type": "code",
   "execution_count": 31,
   "metadata": {},
   "outputs": [
    {
     "name": "stdout",
     "output_type": "stream",
     "text": [
      "today: May 1st, 2015\n",
      "Add 60 business days in hk: July 28th, 2015\n",
      "Add 60 business days in hk: May 4th, 2015\n"
     ]
    }
   ],
   "source": [
    "date = ql.Date(1, 5, 2015)\n",
    "hk_calendar = ql.HongKong()\n",
    "\n",
    "add_period = ql.Period(60, ql.Days)\n",
    "min_period = ql.Period(-0, ql.Days)\n",
    "#raw_date = date + period\n",
    "add_hk_date = hk_calendar.advance(date, add_period)\n",
    "min_hk_date = hk_calendar.advance(date, min_period)\n",
    "print ('today:', date)\n",
    "\n",
    "#print (\"Add 60 days:\", raw_date)\n",
    "print (\"Add 60 business days in hk:\", add_hk_date)\n",
    "print (\"Add 60 business days in hk:\", min_hk_date)"
   ]
  },
  {
   "cell_type": "code",
   "execution_count": 38,
   "metadata": {},
   "outputs": [
    {
     "name": "stdout",
     "output_type": "stream",
     "text": [
      "today: May 1st, 2015\n",
      "0 business days in hk: April 17th, 2015\n"
     ]
    }
   ],
   "source": [
    "date = ql.Date(1, 5, 2015)\n",
    "min_period = ql.Period(-10, ql.Days)\n",
    "min_hk_date = hk_calendar.advance(date, min_period)\n",
    "print ('today:', date)\n",
    "print (\"0 business days in hk:\", min_hk_date)"
   ]
  },
  {
   "cell_type": "code",
   "execution_count": null,
   "metadata": {},
   "outputs": [],
   "source": [
    "date = ql.Date(1, 5, 2015)\n",
    "min_period = ql.Period(-60, ql.Days)"
   ]
  },
  {
   "cell_type": "code",
   "execution_count": null,
   "metadata": {},
   "outputs": [],
   "source": [
    "min_period"
   ]
  },
  {
   "cell_type": "code",
   "execution_count": null,
   "metadata": {},
   "outputs": [],
   "source": [
    "add_hk_date"
   ]
  },
  {
   "cell_type": "code",
   "execution_count": null,
   "metadata": {},
   "outputs": [],
   "source": [
    "import datetime\n",
    "def ql_to_datetime(d):\n",
    "    datetime_formate = datetime.datetime(d.year(), d.month(), d.dayOfMonth())\n",
    "    return datetime_formate.strftime(\"%y%m%d\")\n",
    "\n",
    "ql_to_datetime(add_hk_date)"
   ]
  },
  {
   "cell_type": "code",
   "execution_count": null,
   "metadata": {},
   "outputs": [],
   "source": [
    "date = ql.Date(5, 4, 2018)\n",
    "\n",
    "hk_calendar.isBusinessDay(add_hk_date)"
   ]
  }
 ],
 "metadata": {
  "kernelspec": {
   "display_name": "Python [conda env:option]",
   "language": "python",
   "name": "conda-env-option-py"
  },
  "language_info": {
   "codemirror_mode": {
    "name": "ipython",
    "version": 3
   },
   "file_extension": ".py",
   "mimetype": "text/x-python",
   "name": "python",
   "nbconvert_exporter": "python",
   "pygments_lexer": "ipython3",
   "version": "3.6.4"
  }
 },
 "nbformat": 4,
 "nbformat_minor": 2
}
