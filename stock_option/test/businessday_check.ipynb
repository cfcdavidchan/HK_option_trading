{
 "cells": [
  {
   "cell_type": "code",
   "execution_count": 4,
   "metadata": {},
   "outputs": [],
   "source": [
    "import QuantLib as ql\n",
    "import datetime"
   ]
  },
  {
   "cell_type": "code",
   "execution_count": 22,
   "metadata": {},
   "outputs": [],
   "source": [
    "calendar = ql.HongKong()\n",
    "\n",
    "def ql_date_formate(day, month, year):\n",
    "    return ql.Date(day, month, year)\n",
    "\n",
    "def business_day_checker(date):\n",
    "#    calendar = ql.HongKong()\n",
    "    return calendar.isBusinessDay(date)\n",
    "\n",
    "def date_to_string(date):\n",
    "    datetime_formate = datetime.datetime(date.year(), date.month(), date.dayOfMonth())\n",
    "    return datetime_formate.strftime(\"%y%m%d\")\n",
    "\n",
    "def business_day_period_list(preiod, start_day = ql.Date_todaysDate(), formate = 'ql'):\n",
    "    preiod_list = list()\n",
    "    \n",
    "    if formate == 'str':\n",
    "        preiod_list.append(date_to_string(start_day))\n",
    "    else:\n",
    "        preiod_list.append(start_day)\n",
    "        \n",
    "    for i in range(1, preiod):\n",
    "        min_period = ql.Period(-i, ql.Days)\n",
    "        date = calendar.advance(start_day, min_period)\n",
    "        \n",
    "        if formate == 'str':\n",
    "            date = date_to_string(date)\n",
    "        preiod_list.append(date)\n",
    "    \n",
    "    return preiod_list"
   ]
  },
  {
   "cell_type": "code",
   "execution_count": 17,
   "metadata": {},
   "outputs": [
    {
     "name": "stdout",
     "output_type": "stream",
     "text": [
      "yes\n"
     ]
    }
   ],
   "source": [
    "test_day = ql_date_formate(1,7,2020)\n",
    "today = day = ql.Date_todaysDate()\n",
    "if test_day > today:\n",
    "    print ('yes')\n",
    "else:\n",
    "    print ('no')"
   ]
  },
  {
   "cell_type": "code",
   "execution_count": 23,
   "metadata": {},
   "outputs": [
    {
     "data": {
      "text/plain": [
       "['180418', '180417', '180416']"
      ]
     },
     "execution_count": 23,
     "metadata": {},
     "output_type": "execute_result"
    }
   ],
   "source": [
    "business_day_period_list(3, formate = 'str')"
   ]
  },
  {
   "cell_type": "code",
   "execution_count": 11,
   "metadata": {},
   "outputs": [
    {
     "data": {
      "text/plain": [
       "False"
      ]
     },
     "execution_count": 11,
     "metadata": {},
     "output_type": "execute_result"
    }
   ],
   "source": [
    "business_day_checker(ql_date_formate(1,7,1991))"
   ]
  }
 ],
 "metadata": {
  "kernelspec": {
   "display_name": "Python [conda env:option]",
   "language": "python",
   "name": "conda-env-option-py"
  },
  "language_info": {
   "codemirror_mode": {
    "name": "ipython",
    "version": 3
   },
   "file_extension": ".py",
   "mimetype": "text/x-python",
   "name": "python",
   "nbconvert_exporter": "python",
   "pygments_lexer": "ipython3",
   "version": "3.6.4"
  }
 },
 "nbformat": 4,
 "nbformat_minor": 2
}
