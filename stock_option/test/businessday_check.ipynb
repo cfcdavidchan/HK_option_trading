{
 "cells": [
  {
   "cell_type": "code",
   "execution_count": 1,
   "metadata": {},
   "outputs": [],
   "source": [
    "import QuantLib as ql\n",
    "import datetime"
   ]
  },
  {
   "cell_type": "code",
   "execution_count": 13,
   "metadata": {},
   "outputs": [],
   "source": [
    "calendar = ql.HongKong()\n",
    "\n",
    "def ql_date_formate(day, month, year):\n",
    "    return ql.Date(day, month, year)\n",
    "\n",
    "def business_day_checker(date):\n",
    "#    calendar = ql.HongKong()\n",
    "    return calendar.isBusinessDay(date)\n",
    "\n",
    "def date_to_string(date):\n",
    "    datetime_formate = datetime.datetime(date.year(), date.month(), date.dayOfMonth())\n",
    "    return datetime_formate.strftime(\"%y%m%d\")\n",
    "\n",
    "def business_day_period_list(preiod, start_day = ql.Date_todaysDate(), formate = 'ql'):\n",
    "    preiod_list = list()\n",
    "    \n",
    "    if formate == 'str':\n",
    "        preiod_list.append(date_to_string(start_day))\n",
    "    else:\n",
    "        preiod_list.append(start_day)\n",
    "        \n",
    "    for i in range(1, preiod +1):\n",
    "        min_period = ql.Period(-i, ql.Days)\n",
    "        date = calendar.advance(start_day, min_period)\n",
    "        \n",
    "        if formate == 'str':\n",
    "            date = date_to_string(date)\n",
    "        preiod_list.append(date)\n",
    "    \n",
    "    return preiod_list"
   ]
  }
 ],
 "metadata": {
  "kernelspec": {
   "display_name": "Python [conda env:option]",
   "language": "python",
   "name": "conda-env-option-py"
  },
  "language_info": {
   "codemirror_mode": {
    "name": "ipython",
    "version": 3
   },
   "file_extension": ".py",
   "mimetype": "text/x-python",
   "name": "python",
   "nbconvert_exporter": "python",
   "pygments_lexer": "ipython3",
   "version": "3.6.4"
  }
 },
 "nbformat": 4,
 "nbformat_minor": 2
}
