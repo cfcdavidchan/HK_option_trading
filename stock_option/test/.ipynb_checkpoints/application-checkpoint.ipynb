{
 "cells": [
  {
   "cell_type": "code",
   "execution_count": 28,
   "metadata": {},
   "outputs": [],
   "source": [
    "from helper.download_csvfile import *\n",
    "from helper.businessday_check import *\n",
    "from helper.reading_HKEX_option_data import option_data_mining"
   ]
  },
  {
   "cell_type": "code",
   "execution_count": 29,
   "metadata": {},
   "outputs": [
    {
     "name": "stdout",
     "output_type": "stream",
     "text": [
      "Sorry, start_date:   July 1st, 2017 is not a business day\n",
      "End start_date will change to  July 1st, 2017\n",
      "start date:  July 1st, 2017 end date:  April 30th, 2018\n"
     ]
    }
   ],
   "source": [
    "date_list = business_day_start_end_list('01 07 2017')"
   ]
  },
  {
   "cell_type": "code",
   "execution_count": 32,
   "metadata": {},
   "outputs": [],
   "source": [
    "period = 20 #period\n",
    "\n",
    "date_list = business_day_period_list(period= period, formate= 'str') #create a date list\n"
   ]
  },
  {
   "cell_type": "code",
   "execution_count": 34,
   "metadata": {},
   "outputs": [],
   "source": [
    "for date in date_list:\n",
    "\n",
    "    option_data_csv(date= date)"
   ]
  }
 ],
 "metadata": {
  "kernelspec": {
   "display_name": "Python [conda env:option]",
   "language": "python",
   "name": "conda-env-option-py"
  },
  "language_info": {
   "codemirror_mode": {
    "name": "ipython",
    "version": 3
   },
   "file_extension": ".py",
   "mimetype": "text/x-python",
   "name": "python",
   "nbconvert_exporter": "python",
   "pygments_lexer": "ipython3",
   "version": "3.6.4"
  }
 },
 "nbformat": 4,
 "nbformat_minor": 2
}
