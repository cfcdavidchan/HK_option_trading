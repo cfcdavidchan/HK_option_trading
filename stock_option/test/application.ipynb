{
 "cells": [
  {
   "cell_type": "code",
   "execution_count": 1,
   "metadata": {},
   "outputs": [],
   "source": [
    "from helper.download_csvfile import *\n",
    "from helper.businessday_check import *\n",
    "from helper.reading_HKEX_option_data import option_data_mining\n",
    "import tkinter as tk"
   ]
  },
  {
   "cell_type": "code",
   "execution_count": 2,
   "metadata": {},
   "outputs": [
    {
     "name": "stdout",
     "output_type": "stream",
     "text": [
      "Sorry, start date:   January 1st, 2018 is not a business day\n",
      "Start date will change to  December 29th, 2017\n",
      "start date:  December 29th, 2017 end date:  December 28th, 2017 number of preiod:  81\n"
     ]
    }
   ],
   "source": [
    "date_list = business_day_start_end_list(start_date = '01 01 2018',formate = 'str')"
   ]
  },
  {
   "cell_type": "code",
   "execution_count": 25,
   "metadata": {},
   "outputs": [],
   "source": [
    "windows = tk.Tk()\n",
    "windows.title(\"Option data downloader\")\n",
    "windows.mainloop()"
   ]
  }
 ],
 "metadata": {
  "kernelspec": {
   "display_name": "Python [conda env:option]",
   "language": "python",
   "name": "conda-env-option-py"
  },
  "language_info": {
   "codemirror_mode": {
    "name": "ipython",
    "version": 3
   },
   "file_extension": ".py",
   "mimetype": "text/x-python",
   "name": "python",
   "nbconvert_exporter": "python",
   "pygments_lexer": "ipython3",
   "version": "3.6.4"
  }
 },
 "nbformat": 4,
 "nbformat_minor": 2
}
