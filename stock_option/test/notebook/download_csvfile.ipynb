{
 "cells": [
  {
   "cell_type": "code",
   "execution_count": 1,
   "metadata": {},
   "outputs": [],
   "source": [
    "import sys,os\n",
    "sys.path.append('..')\n",
    "from io import BytesIO\n",
    "from zipfile import ZipFile\n",
    "from urllib.request import urlopen\n",
    "from helper.businessday_check import *"
   ]
  },
  {
   "cell_type": "code",
   "execution_count": 2,
   "metadata": {},
   "outputs": [],
   "source": [
    "def csv_directory_creater():\n",
    "    # create a csv directory in the root folder\n",
    "    if 'csv_file' not in os.listdir():\n",
    "        os.mkdir('csv_file')\n",
    "        \n",
    "def option_csv_downloader(date = None, path= None):\n",
    "    # if date is None, it will download the last trading day's data\n",
    "    if date == None:\n",
    "        date = date_to_string(ql.Date_todaysDate() -1)\n",
    "    \n",
    "    # if the path is not specific, it will download to the csv_file directory in the root directory\n",
    "    if path == None:\n",
    "        csv_directory_creater()\n",
    "        path = os.getcwd() + '/csv_file/'\n",
    "        \n",
    "    hkex_url = 'https://www.hkex.com.hk/eng/stat/dmstat/dayrpt/dqe'\n",
    "    #  date shoudl be yymmdd\n",
    "    csv_zip = urlopen(hkex_url + date + '.zip')\n",
    "    csv_zip = ZipFile(BytesIO(csv_zip.read()))\n",
    "    csv_zip.extractall(path)"
   ]
  },
  {
   "cell_type": "code",
   "execution_count": 5,
   "metadata": {},
   "outputs": [
    {
     "name": "stdout",
     "output_type": "stream",
     "text": [
      "The updated data is on April 24th, 2018\n",
      "Enter the last trading day of data you want (dd mm yyyy). (Default = April 24th, 2018)\n",
      "Period(days)10\n"
     ]
    }
   ],
   "source": [
    "if __name__ == \"__main__\":\n",
    "    \n",
    "    day = ql.Date_todaysDate() -1\n",
    "    \n",
    "    # Finding the last business day (excluding current date)\n",
    "    while True:\n",
    "        if business_day_checker(day):\n",
    "            last_businessday = day\n",
    "            break\n",
    "        else:\n",
    "            day -= 1\n",
    "    \n",
    "    print ('The updated data is on', last_businessday)\n",
    "    \n",
    "    # Asking the start date\n",
    "    while True:\n",
    "        start_date_question = \"Enter the last trading day of data you want (dd mm yyyy). (Default = %s)\"% str(last_businessday)\n",
    "        ddmmyyyy = input(start_date_question)\n",
    "        if ddmmyyyy is '':\n",
    "            start_day = last_businessday\n",
    "            break\n",
    "        try:\n",
    "            dd, mm, yyyy = ddmmyyyy.split(\" \")\n",
    "            select_day = ql_date_formate(int(dd), int(mm), int(yyyy))\n",
    "            if select_day < last_businessday:\n",
    "                if not business_day_checker(select_day):\n",
    "                    print (select_day, 'is not a business_day')\n",
    "                    while not business_day_checker(select_day):\n",
    "                        select_day -=1\n",
    "                    print ('The program will change it to', select_day, 'as the starting day')\n",
    "                start_day = select_day\n",
    "                \n",
    "                \n",
    "                break\n",
    "            else:\n",
    "                print (\"The date cannot be later than the updated date\")\n",
    "                \n",
    "        except:\n",
    "            print ('input error')\n",
    "            continue\n",
    "\n",
    "    # Asking the period\n",
    "    while True:\n",
    "        try:\n",
    "            preiod = int(input(\"Period(days)\"))\n",
    "        except ValueError:\n",
    "            print ('input error')\n",
    "            continue\n",
    "        else:\n",
    "            break\n",
    "    \n",
    "    date_list = business_day_period_list(preiod, start_day= start_day, formate= 'str')\n",
    "    \n",
    "    for date in date_list:\n",
    "        try:\n",
    "            option_csv_downloader(date= date)\n",
    "        except:\n",
    "            print (date, 'option data is not available to download')"
   ]
  }
 ],
 "metadata": {
  "kernelspec": {
   "display_name": "Python [conda env:option]",
   "language": "python",
   "name": "conda-env-option-py"
  },
  "language_info": {
   "codemirror_mode": {
    "name": "ipython",
    "version": 3
   },
   "file_extension": ".py",
   "mimetype": "text/x-python",
   "name": "python",
   "nbconvert_exporter": "python",
   "pygments_lexer": "ipython3",
   "version": "3.6.4"
  }
 },
 "nbformat": 4,
 "nbformat_minor": 2
}
