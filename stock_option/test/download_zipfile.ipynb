{
 "cells": [
  {
   "cell_type": "code",
   "execution_count": 3,
   "metadata": {},
   "outputs": [],
   "source": [
    "from io import BytesIO\n",
    "from zipfile import ZipFile\n",
    "from urllib.request import urlopen\n",
    "from helper.businessday_check import *\n",
    "import os"
   ]
  },
  {
   "cell_type": "code",
   "execution_count": null,
   "metadata": {},
   "outputs": [],
   "source": [
    "\n",
    "\n",
    "\n",
    "resp = urlopen('https://www.hkex.com.hk/eng/stat/dmstat/dayrpt/dqe180406.zip')\n",
    "zipfile = ZipFile(BytesIO(resp.read()))\n",
    "zipfile.extractall('/home/david/Downloads/hkex_csv')\n"
   ]
  },
  {
   "cell_type": "code",
   "execution_count": 30,
   "metadata": {},
   "outputs": [],
   "source": [
    "def csv_directory_creater():\n",
    "    if 'csv_file' not in os.listdir():\n",
    "        os.mkdir('csv_file')\n",
    "        \n",
    "def option_csv_downloader(date, path= None):\n",
    "    if path == None:\n",
    "        csv_directory_creater()\n",
    "        path = os.getcwd() + '/csv_file/'\n",
    "        \n",
    "    hkex_url = 'https://www.hkex.com.hk/eng/stat/dmstat/dayrpt/dqe'\n",
    "\n",
    "    csv_zip = urlopen(hkex_url + date + '.zip')\n",
    "    csv_zip = ZipFile(BytesIO(csv_zip.read()))\n",
    "    csv_zip.extractall(path)"
   ]
  },
  {
   "cell_type": "code",
   "execution_count": 31,
   "metadata": {},
   "outputs": [],
   "source": [
    "option_csv_downloader('180412')"
   ]
  },
  {
   "cell_type": "code",
   "execution_count": 17,
   "metadata": {},
   "outputs": [
    {
     "data": {
      "text/plain": [
       "['180413',\n",
       " '180412',\n",
       " '180411',\n",
       " '180410',\n",
       " '180409',\n",
       " '180406',\n",
       " '180404',\n",
       " '180403',\n",
       " '180329',\n",
       " '180328',\n",
       " '180327',\n",
       " '180326',\n",
       " '180323',\n",
       " '180322',\n",
       " '180321',\n",
       " '180320',\n",
       " '180319',\n",
       " '180316',\n",
       " '180315',\n",
       " '180314',\n",
       " '180313',\n",
       " '180312',\n",
       " '180309',\n",
       " '180308',\n",
       " '180307',\n",
       " '180306',\n",
       " '180305',\n",
       " '180302',\n",
       " '180301',\n",
       " '180228',\n",
       " '180227',\n",
       " '180226',\n",
       " '180223',\n",
       " '180222',\n",
       " '180221',\n",
       " '180220',\n",
       " '180215',\n",
       " '180214',\n",
       " '180213',\n",
       " '180212',\n",
       " '180209',\n",
       " '180208',\n",
       " '180207',\n",
       " '180206',\n",
       " '180205',\n",
       " '180202',\n",
       " '180201',\n",
       " '180131',\n",
       " '180130',\n",
       " '180129',\n",
       " '180126',\n",
       " '180125',\n",
       " '180124',\n",
       " '180123',\n",
       " '180122',\n",
       " '180119',\n",
       " '180118',\n",
       " '180117',\n",
       " '180116',\n",
       " '180115',\n",
       " '180112']"
      ]
     },
     "execution_count": 17,
     "metadata": {},
     "output_type": "execute_result"
    }
   ],
   "source": [
    "business_day_preiod_list(60, formate = 'str')"
   ]
  }
 ],
 "metadata": {
  "kernelspec": {
   "display_name": "Python [conda env:option]",
   "language": "python",
   "name": "conda-env-option-py"
  },
  "language_info": {
   "codemirror_mode": {
    "name": "ipython",
    "version": 3
   },
   "file_extension": ".py",
   "mimetype": "text/x-python",
   "name": "python",
   "nbconvert_exporter": "python",
   "pygments_lexer": "ipython3",
   "version": "3.6.4"
  }
 },
 "nbformat": 4,
 "nbformat_minor": 2
}
