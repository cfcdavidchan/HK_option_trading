{
 "cells": [
  {
   "cell_type": "code",
   "execution_count": 2,
   "metadata": {},
   "outputs": [],
   "source": [
    "from io import BytesIO\n",
    "from zipfile import ZipFile\n",
    "from urllib.request import urlopen\n",
    "from helper.businessday_check import *\n",
    "import os\n",
    "import datetime"
   ]
  },
  {
   "cell_type": "code",
   "execution_count": 3,
   "metadata": {},
   "outputs": [],
   "source": [
    "def csv_directory_creater():\n",
    "    if 'csv_file' not in os.listdir():\n",
    "        os.mkdir('csv_file')\n",
    "        \n",
    "def option_csv_downloader(date, path= None):\n",
    "    if path == None:\n",
    "        csv_directory_creater()\n",
    "        path = os.getcwd() + '/csv_file/'\n",
    "        \n",
    "    hkex_url = 'https://www.hkex.com.hk/eng/stat/dmstat/dayrpt/dqe'\n",
    "\n",
    "    csv_zip = urlopen(hkex_url + date + '.zip')\n",
    "    csv_zip = ZipFile(BytesIO(csv_zip.read()))\n",
    "    csv_zip.extractall(path)"
   ]
  },
  {
   "cell_type": "code",
   "execution_count": 60,
   "metadata": {},
   "outputs": [],
   "source": [
    "ytdday = ql.Date_todaysDate() -1\n",
    "today = ql.Date_todaysDate()\n",
    "if today < ytdday:\n",
    "    print ('yes')"
   ]
  },
  {
   "cell_type": "code",
   "execution_count": 61,
   "metadata": {},
   "outputs": [
    {
     "data": {
      "text/plain": [
       "'18'"
      ]
     },
     "execution_count": 61,
     "metadata": {},
     "output_type": "execute_result"
    }
   ],
   "source": [
    "'2018'[-2:]"
   ]
  },
  {
   "cell_type": "code",
   "execution_count": 69,
   "metadata": {},
   "outputs": [
    {
     "data": {
      "text/plain": [
       "'April 13th, 2018'"
      ]
     },
     "execution_count": 69,
     "metadata": {},
     "output_type": "execute_result"
    }
   ],
   "source": [
    "str(today)"
   ]
  },
  {
   "cell_type": "code",
   "execution_count": null,
   "metadata": {},
   "outputs": [
    {
     "name": "stdout",
     "output_type": "stream",
     "text": [
      "The updated data is on April 12th, 2018\n",
      "Enter the last trading day of data you want (dd mm yyyy). (Default = April 12th, 2018)\n",
      "180411\n"
     ]
    }
   ],
   "source": [
    "if __name__ == \"__main__\":\n",
    "    \n",
    "    day = ql.Date_todaysDate() -1\n",
    "    \n",
    "    # Finding the last business day (excluding current date)\n",
    "    while True:\n",
    "        if business_day_checker(day):\n",
    "            last_businessday = day\n",
    "            break\n",
    "        else:\n",
    "            day -= 1\n",
    "    \n",
    "    print ('The updated data is on', last_businessday)\n",
    "    \n",
    "    # Asking the start date\n",
    "    while True:\n",
    "        start_date_question = \"Enter the last trading day of data you want (dd mm yyyy). (Default = %s)\"% str(last_businessday)\n",
    "        ddmmyyyy = input(start_date_question)\n",
    "        if ddmmyyyy is '':\n",
    "            start_day = last_businessday\n",
    "            break\n",
    "        try:\n",
    "            dd, mm, yyyy = ddmmyyyy.split(\" \")\n",
    "            start_day = ql_date_formate(dd, mm, yyyy[-2:])\n",
    "            if start_day < last_businessday:\n",
    "                break\n",
    "                \n",
    "        except ValueError:\n",
    "            print ('error')\n",
    "            continue\n",
    "    \n",
    "    print (start_date)\n",
    "    \n",
    "    \n",
    "    \n",
    "    \n",
    "    \n",
    "    # Asking the period\n",
    "    while True:\n",
    "        try:\n",
    "            preiod = int(input(\"Period(days)\"))\n",
    "        except ValueError:\n",
    "            continue\n",
    "        else:\n",
    "            break"
   ]
  },
  {
   "cell_type": "code",
   "execution_count": 58,
   "metadata": {},
   "outputs": [
    {
     "name": "stdout",
     "output_type": "stream",
     "text": [
      "sa\n"
     ]
    },
    {
     "ename": "ValueError",
     "evalue": "not enough values to unpack (expected 3, got 1)",
     "output_type": "error",
     "traceback": [
      "\u001b[0;31m---------------------------------------------------------------------------\u001b[0m",
      "\u001b[0;31mValueError\u001b[0m                                Traceback (most recent call last)",
      "\u001b[0;32m<ipython-input-58-9a5dde0d2215>\u001b[0m in \u001b[0;36m<module>\u001b[0;34m()\u001b[0m\n\u001b[0;32m----> 1\u001b[0;31m \u001b[0mnum1\u001b[0m\u001b[0;34m,\u001b[0m\u001b[0mnum2\u001b[0m\u001b[0;34m,\u001b[0m\u001b[0mnum3\u001b[0m \u001b[0;34m=\u001b[0m \u001b[0minput\u001b[0m\u001b[0;34m(\u001b[0m\u001b[0;34m'sa'\u001b[0m\u001b[0;34m)\u001b[0m\u001b[0;34m.\u001b[0m\u001b[0msplit\u001b[0m\u001b[0;34m(\u001b[0m\u001b[0;34m\" \"\u001b[0m\u001b[0;34m)\u001b[0m\u001b[0;34m\u001b[0m\u001b[0m\n\u001b[0m\u001b[1;32m      2\u001b[0m \u001b[0mprint\u001b[0m \u001b[0;34m(\u001b[0m\u001b[0mnum1\u001b[0m\u001b[0;34m)\u001b[0m\u001b[0;34m\u001b[0m\u001b[0m\n",
      "\u001b[0;31mValueError\u001b[0m: not enough values to unpack (expected 3, got 1)"
     ]
    }
   ],
   "source": [
    "num1,num2,num3 = input('sa').split(\" \")\n",
    "print (num1)"
   ]
  }
 ],
 "metadata": {
  "kernelspec": {
   "display_name": "Python [conda env:option]",
   "language": "python",
   "name": "conda-env-option-py"
  },
  "language_info": {
   "codemirror_mode": {
    "name": "ipython",
    "version": 3
   },
   "file_extension": ".py",
   "mimetype": "text/x-python",
   "name": "python",
   "nbconvert_exporter": "python",
   "pygments_lexer": "ipython3",
   "version": "3.6.4"
  }
 },
 "nbformat": 4,
 "nbformat_minor": 2
}
