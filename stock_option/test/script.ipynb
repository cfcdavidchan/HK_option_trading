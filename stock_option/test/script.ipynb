{
 "cells": [
  {
   "cell_type": "code",
   "execution_count": 1,
   "metadata": {},
   "outputs": [],
   "source": [
    "from helper.download_csvfile import *\n",
    "from helper.businessday_check import *\n",
    "from helper.reading_HKEX_option_data import option_data_mining\n",
    "import os, shutil, json"
   ]
  },
  {
   "cell_type": "code",
   "execution_count": 2,
   "metadata": {},
   "outputs": [],
   "source": [
    "if 'csv_tmp' not in os.listdir():\n",
    "    os.mkdir('csv_tmp')\n",
    "\n",
    "if 'csv_stock' not in os.listdir():\n",
    "    os.mkdir('csv_stock')"
   ]
  },
  {
   "cell_type": "code",
   "execution_count": 3,
   "metadata": {},
   "outputs": [],
   "source": [
    "last_businessday = last_tradingday()\n",
    "last_businessday_str = datetime.datetime(last_businessday.year(), last_businessday.month(), last_businessday.dayOfMonth()).strftime(\"%d %m %Y\")"
   ]
  },
  {
   "cell_type": "code",
   "execution_count": 4,
   "metadata": {},
   "outputs": [
    {
     "name": "stdout",
     "output_type": "stream",
     "text": [
      "End day: \n"
     ]
    }
   ],
   "source": [
    "end_date = input('End day: \\n')\n",
    "start_date = input('Start day: \\n')\n",
    "period = input(int('Period: \\n'))"
   ]
  },
  {
   "cell_type": "code",
   "execution_count": 5,
   "metadata": {},
   "outputs": [
    {
     "name": "stdout",
     "output_type": "stream",
     "text": [
      "\n"
     ]
    }
   ],
   "source": [
    "print (end_date)"
   ]
  }
 ],
 "metadata": {
  "kernelspec": {
   "display_name": "Python 3",
   "language": "python",
   "name": "python3"
  },
  "language_info": {
   "codemirror_mode": {
    "name": "ipython",
    "version": 3
   },
   "file_extension": ".py",
   "mimetype": "text/x-python",
   "name": "python",
   "nbconvert_exporter": "python",
   "pygments_lexer": "ipython3",
   "version": "3.5.5"
  }
 },
 "nbformat": 4,
 "nbformat_minor": 2
}
