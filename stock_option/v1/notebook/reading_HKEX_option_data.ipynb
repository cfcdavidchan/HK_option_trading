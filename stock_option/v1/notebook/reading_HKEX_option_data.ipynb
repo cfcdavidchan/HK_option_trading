{
 "cells": [
  {
   "cell_type": "code",
   "execution_count": 1,
   "metadata": {
    "nbpresent": {
     "id": "353b4303-fc90-4cfa-a22e-10b5541d000f"
    }
   },
   "outputs": [],
   "source": [
    "import sys, os, csv\n",
    "sys.path.append('..')\n",
    "import pandas as pd\n",
    "from helper.reading_HKEX_option_data import *\n",
    "#import helper\n",
    "#%run ./helper/helper.py # import ./helper/helper.py"
   ]
  },
  {
   "cell_type": "code",
   "execution_count": 2,
   "metadata": {},
   "outputs": [],
   "source": [
    "option_data = option_data_mining('../test_data/dqe180301.csv')"
   ]
  },
  {
   "cell_type": "code",
   "execution_count": 3,
   "metadata": {
    "nbpresent": {
     "id": "a6e5f980-5647-4128-899f-c4192b9118a0"
    }
   },
   "outputs": [],
   "source": [
    "option_summary = option_data.summary()\n",
    "code_dict = option_data.code_dictionary()\n",
    "top_10_trade = option_data.top_10_traded()\n",
    "top_5_up = option_data.top_5_up()\n",
    "top_5_down = option_data.top_5_down()\n",
    "call_table, put_table = option_data.call_put_table('00388')"
   ]
  },
  {
   "cell_type": "code",
   "execution_count": null,
   "metadata": {
    "nbpresent": {
     "id": "2e50d3a0-f43b-4297-9fff-ede9ecc697a0"
    }
   },
   "outputs": [],
   "source": [
    "call_table.head()"
   ]
  }
 ],
 "metadata": {
  "kernelspec": {
   "display_name": "Python [conda env:option]",
   "language": "python",
   "name": "conda-env-option-py"
  },
  "language_info": {
   "codemirror_mode": {
    "name": "ipython",
    "version": 3
   },
   "file_extension": ".py",
   "mimetype": "text/x-python",
   "name": "python",
   "nbconvert_exporter": "python",
   "pygments_lexer": "ipython3",
   "version": "3.6.4"
  }
 },
 "nbformat": 4,
 "nbformat_minor": 2
}
