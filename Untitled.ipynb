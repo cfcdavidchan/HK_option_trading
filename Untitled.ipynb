{
 "cells": [
  {
   "cell_type": "code",
   "execution_count": 1,
   "metadata": {},
   "outputs": [],
   "source": [
    "import QuantLib as ql"
   ]
  },
  {
   "cell_type": "code",
   "execution_count": 20,
   "metadata": {},
   "outputs": [
    {
     "name": "stdout",
     "output_type": "stream",
     "text": [
      "today: May 1st, 2015\n",
      "Add 60 days: March 2nd, 2015\n",
      "Add 60 business days in hk: July 28th, 2015\n",
      "Add 60 business days in hk: January 30th, 2015\n"
     ]
    }
   ],
   "source": [
    "date = ql.Date(1, 5, 2015)\n",
    "hk_calendar = ql.HongKong()\n",
    "\n",
    "add_period = ql.Period(60, ql.Days)\n",
    "min_period = ql.Period(-60, ql.Days)\n",
    "raw_date = date + period\n",
    "add_hk_date = hk_calendar.advance(date, add_period)\n",
    "min_hk_date = hk_calendar.advance(date, min_period)\n",
    "print ('today:', date)\n",
    "\n",
    "print (\"Add 60 days:\", raw_date)\n",
    "print (\"Add 60 business days in hk:\", add_hk_date)\n",
    "print (\"Add 60 business days in hk:\", min_hk_date)"
   ]
  },
  {
   "cell_type": "code",
   "execution_count": null,
   "metadata": {},
   "outputs": [],
   "source": [
    "ql.DateParser"
   ]
  },
  {
   "cell_type": "code",
   "execution_count": 23,
   "metadata": {},
   "outputs": [
    {
     "data": {
      "text/plain": [
       "Date(28,7,2015)"
      ]
     },
     "execution_count": 23,
     "metadata": {},
     "output_type": "execute_result"
    }
   ],
   "source": [
    "add_hk_date"
   ]
  },
  {
   "cell_type": "code",
   "execution_count": 29,
   "metadata": {},
   "outputs": [
    {
     "data": {
      "text/plain": [
       "'150728'"
      ]
     },
     "execution_count": 29,
     "metadata": {},
     "output_type": "execute_result"
    }
   ],
   "source": [
    "import datetime\n",
    "def ql_to_datetime(d):\n",
    "    datetime_formate = datetime.datetime(d.year(), d.month(), d.dayOfMonth())\n",
    "    return datetime_formate.strftime(\"%y%m%d\")\n",
    "\n",
    "ql_to_datetime(add_hk_date)"
   ]
  },
  {
   "cell_type": "code",
   "execution_count": 18,
   "metadata": {},
   "outputs": [
    {
     "data": {
      "text/plain": [
       "False"
      ]
     },
     "execution_count": 18,
     "metadata": {},
     "output_type": "execute_result"
    }
   ],
   "source": [
    "date = ql.Date(5, 4, 2018)\n",
    "\n",
    "hk_calendar.isBusinessDay(date)"
   ]
  }
 ],
 "metadata": {
  "kernelspec": {
   "display_name": "Python [conda env:option]",
   "language": "python",
   "name": "conda-env-option-py"
  },
  "language_info": {
   "codemirror_mode": {
    "name": "ipython",
    "version": 3
   },
   "file_extension": ".py",
   "mimetype": "text/x-python",
   "name": "python",
   "nbconvert_exporter": "python",
   "pygments_lexer": "ipython3",
   "version": "3.6.4"
  }
 },
 "nbformat": 4,
 "nbformat_minor": 2
}
