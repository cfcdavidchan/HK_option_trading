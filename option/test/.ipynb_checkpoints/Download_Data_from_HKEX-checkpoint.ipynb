{
 "cells": [
  {
   "cell_type": "code",
   "execution_count": 1,
   "metadata": {
    "nbpresent": {
     "id": "353b4303-fc90-4cfa-a22e-10b5541d000f"
    }
   },
   "outputs": [],
   "source": [
    "import pandas as pd\n",
    "import csv\n",
    "from helper.helper import option_data_mining\n",
    "#import helper\n",
    "#%run ./helper/helper.py # import ./helper/helper.py"
   ]
  },
  {
   "cell_type": "code",
   "execution_count": 2,
   "metadata": {},
   "outputs": [],
   "source": [
    "option_data = option_data_mining('./test_data/dqe180406.csv')"
   ]
  },
  {
   "cell_type": "code",
   "execution_count": 3,
   "metadata": {
    "nbpresent": {
     "id": "0f84b40e-4f7a-4abc-8a96-b490b4e5aec4"
    }
   },
   "outputs": [],
   "source": [
    "option_data = option_data_mining('./test_data/dqe180301.csv')"
   ]
  },
  {
   "cell_type": "code",
   "execution_count": 4,
   "metadata": {
    "nbpresent": {
     "id": "a6e5f980-5647-4128-899f-c4192b9118a0"
    }
   },
   "outputs": [],
   "source": [
    "option_summary = option_data.summary()\n",
    "code_dict = option_data.code_dictionary()\n",
    "top_10_trade = option_data.top_10_traded()\n",
    "top_5_up = option_data.top_5_up()\n",
    "top_5_down = option_data.top_5_down()\n",
    "call_table, put_table = option_data.call_put_table('00388')"
   ]
  },
  {
   "cell_type": "code",
   "execution_count": 5,
   "metadata": {},
   "outputs": [
    {
     "data": {
      "text/plain": [
       "{'': {'HKATS CODE': 'BIH', 'UNDERLYING STOCK': \"BELLE INT'L\"},\n",
       " '00001': {'HKATS CODE': 'CKH', 'UNDERLYING STOCK': 'CKH HOLDINGS'},\n",
       " '00002': {'HKATS CODE': 'CLP', 'UNDERLYING STOCK': 'CLP HOLDINGS LTD'},\n",
       " '00003': {'HKATS CODE': 'HKG', 'UNDERLYING STOCK': 'HONG KONG & CHINA GAS'},\n",
       " '00004': {'HKATS CODE': 'WHL', 'UNDERLYING STOCK': 'THE WHARF (HLDGS) LTD'},\n",
       " '00005': {'HKATS CODE': 'HKB', 'UNDERLYING STOCK': 'HSBC HOLDINGS PLC'},\n",
       " '00006': {'HKATS CODE': 'HEH', 'UNDERLYING STOCK': 'POWER ASSETS'},\n",
       " '00011': {'HKATS CODE': 'HSB', 'UNDERLYING STOCK': 'HANG SENG BANK LTD'},\n",
       " '00012': {'HKATS CODE': 'HLD', 'UNDERLYING STOCK': 'HENDERSON LAND DEV LTD'},\n",
       " '00016': {'HKATS CODE': 'SHK', 'UNDERLYING STOCK': 'SUN HUNG KAI PPT LTD'},\n",
       " '00017': {'HKATS CODE': 'NWD', 'UNDERLYING STOCK': 'NEW WORLD DEV CO LTD'},\n",
       " '00019': {'HKATS CODE': 'SWA', 'UNDERLYING STOCK': \"SWIRE PACIFIC LTD 'A'\"},\n",
       " '00023': {'HKATS CODE': 'BEA', 'UNDERLYING STOCK': 'BANK OF EAST ASIA'},\n",
       " '00027': {'HKATS CODE': 'GLX', 'UNDERLYING STOCK': 'GALAXY ENT'},\n",
       " '00066': {'HKATS CODE': 'MTR', 'UNDERLYING STOCK': 'MTR CORPORATION LTD'},\n",
       " '00135': {'HKATS CODE': 'KLE', 'UNDERLYING STOCK': 'KUNLUN ENERGY'},\n",
       " '00151': {'HKATS CODE': 'WWC', 'UNDERLYING STOCK': 'WANT WANT CHINA'},\n",
       " '00175': {'HKATS CODE': 'GAH', 'UNDERLYING STOCK': 'GEELY AUTO'},\n",
       " '00267': {'HKATS CODE': 'CIT', 'UNDERLYING STOCK': 'CITIC'},\n",
       " '00293': {'HKATS CODE': 'CPA', 'UNDERLYING STOCK': 'CATHAY PACIFIC AIRWAYS'},\n",
       " '00330': {'HKATS CODE': 'ESP', 'UNDERLYING STOCK': 'ESPRIT HOLDINGS LTD'},\n",
       " '00358': {'HKATS CODE': 'JXC', 'UNDERLYING STOCK': 'JIANGXI COPPER'},\n",
       " '00386': {'HKATS CODE': 'CPC', 'UNDERLYING STOCK': 'CHINA PETROL & CHEM COR'},\n",
       " '00388': {'HKATS CODE': 'HEX', 'UNDERLYING STOCK': 'HK EXCHANGES & CLEARING'},\n",
       " '00390': {'HKATS CODE': 'CRG', 'UNDERLYING STOCK': 'CHINA RAILWAY'},\n",
       " '00489': {'HKATS CODE': 'DFM', 'UNDERLYING STOCK': 'DONGFENG GROUP'},\n",
       " '00494': {'HKATS CODE': 'LIF', 'UNDERLYING STOCK': 'LI & FUNG LTD'},\n",
       " '00688': {'HKATS CODE': 'COL', 'UNDERLYING STOCK': 'CHINA OVERSEAS'},\n",
       " '00700': {'HKATS CODE': 'TCH', 'UNDERLYING STOCK': 'TENCENT HOLDINGS LTD'},\n",
       " '00728': {'HKATS CODE': 'CTC', 'UNDERLYING STOCK': 'CHINA TELECOM CORP LTD'},\n",
       " '00762': {'HKATS CODE': 'CHU', 'UNDERLYING STOCK': 'CHINA UNICOM LTD'},\n",
       " '00823': {'HKATS CODE': 'LNK', 'UNDERLYING STOCK': 'LINK REIT'},\n",
       " '00857': {'HKATS CODE': 'PEC', 'UNDERLYING STOCK': 'PETROCHINA CO LTD'},\n",
       " '00883': {'HKATS CODE': 'CNC', 'UNDERLYING STOCK': 'CNOOC LTD'},\n",
       " '00902': {'HKATS CODE': 'HNP', 'UNDERLYING STOCK': 'HUANENG POWER INT INC'},\n",
       " '00914': {'HKATS CODE': 'ACC', 'UNDERLYING STOCK': 'ANHUI CONCH'},\n",
       " '00939': {'HKATS CODE': 'XCC', 'UNDERLYING STOCK': 'CCB ($0.001)'},\n",
       " '00941': {'HKATS CODE': 'CHT', 'UNDERLYING STOCK': 'CHINA MOBILE LTD'},\n",
       " '00992': {'HKATS CODE': 'LEN', 'UNDERLYING STOCK': 'LENOVO GROUP'},\n",
       " '00998': {'HKATS CODE': 'CTB', 'UNDERLYING STOCK': 'CITIC BANK'},\n",
       " '01044': {'HKATS CODE': 'HGN', 'UNDERLYING STOCK': \"HENGAN INT'L\"},\n",
       " '01088': {'HKATS CODE': 'CSE', 'UNDERLYING STOCK': 'CHINA SHENHUA'},\n",
       " '01109': {'HKATS CODE': 'CRL', 'UNDERLYING STOCK': 'CHINA RES LAND'},\n",
       " '01113': {'HKATS CODE': 'CKP', 'UNDERLYING STOCK': 'CK ASSET'},\n",
       " '01171': {'HKATS CODE': 'YZC', 'UNDERLYING STOCK': 'YANZHOU COAL'},\n",
       " '01186': {'HKATS CODE': 'CRC', 'UNDERLYING STOCK': 'CHINA RAIL CONS'},\n",
       " '01211': {'HKATS CODE': 'BYD', 'UNDERLYING STOCK': 'BYD COMPANY'},\n",
       " '01288': {'HKATS CODE': 'XAB', 'UNDERLYING STOCK': 'ABC ($0.001)'},\n",
       " '01299': {'HKATS CODE': 'AIA', 'UNDERLYING STOCK': 'AIA'},\n",
       " '01336': {'HKATS CODE': 'NCL', 'UNDERLYING STOCK': 'NCI'},\n",
       " '01339': {'HKATS CODE': 'PIN', 'UNDERLYING STOCK': 'PICC GROUP'},\n",
       " '01359': {'HKATS CODE': 'CDA', 'UNDERLYING STOCK': 'CHINA CINDA'},\n",
       " '01398': {'HKATS CODE': 'XIC', 'UNDERLYING STOCK': 'ICBC ($0.001)'},\n",
       " '01800': {'HKATS CODE': 'CCC', 'UNDERLYING STOCK': 'CHINA COMM CONS'},\n",
       " '01816': {'HKATS CODE': 'CGN', 'UNDERLYING STOCK': 'CGN POWER'},\n",
       " '01898': {'HKATS CODE': 'CCE', 'UNDERLYING STOCK': 'CHINA COAL'},\n",
       " '01918': {'HKATS CODE': 'SUN', 'UNDERLYING STOCK': 'SUNAC'},\n",
       " '01919': {'HKATS CODE': 'CCS', 'UNDERLYING STOCK': 'COSCO SHIP HOLD'},\n",
       " '01928': {'HKATS CODE': 'SAN', 'UNDERLYING STOCK': 'SANDS CHINA LTD'},\n",
       " '01988': {'HKATS CODE': 'MSB', 'UNDERLYING STOCK': 'MINSHENG BANK'},\n",
       " '02007': {'HKATS CODE': 'COG', 'UNDERLYING STOCK': 'COUNTRY GARDEN'},\n",
       " '02018': {'HKATS CODE': 'AAC', 'UNDERLYING STOCK': 'AAC TECH'},\n",
       " '02038': {'HKATS CODE': 'FIH', 'UNDERLYING STOCK': 'FIH'},\n",
       " '02238': {'HKATS CODE': 'GAC', 'UNDERLYING STOCK': 'GAC GROUP'},\n",
       " '02282': {'HKATS CODE': 'MGM', 'UNDERLYING STOCK': 'MGM CHINA'},\n",
       " '02318': {'HKATS CODE': 'PAI', 'UNDERLYING STOCK': 'PING AN INSURANCE LTD'},\n",
       " '02319': {'HKATS CODE': 'MEN', 'UNDERLYING STOCK': 'MENGNIU DAIRY'},\n",
       " '02328': {'HKATS CODE': 'PIC', 'UNDERLYING STOCK': 'PICC P&C'},\n",
       " '02333': {'HKATS CODE': 'GWM', 'UNDERLYING STOCK': 'GREATWALL MOTOR'},\n",
       " '02382': {'HKATS CODE': 'SNO', 'UNDERLYING STOCK': 'SUNNY OPT'},\n",
       " '02388': {'HKATS CODE': 'BOC', 'UNDERLYING STOCK': 'BOC HK (HLDGS) LTD'},\n",
       " '02600': {'HKATS CODE': 'ALC', 'UNDERLYING STOCK': 'ALUMINUM CORP OF CHINA'},\n",
       " '02601': {'HKATS CODE': 'CPI', 'UNDERLYING STOCK': 'CPIC'},\n",
       " '02628': {'HKATS CODE': 'CLI', 'UNDERLYING STOCK': 'CHINA LIFE INSURANCE'},\n",
       " '02777': {'HKATS CODE': 'RFP', 'UNDERLYING STOCK': 'R&F PROPERTIES'},\n",
       " '02800': {'HKATS CODE': 'TRF', 'UNDERLYING STOCK': 'TRACKER FUND OF HK'},\n",
       " '02822': {'HKATS CODE': 'CSA', 'UNDERLYING STOCK': 'CSOP A50 ETF'},\n",
       " '02823': {'HKATS CODE': 'A50', 'UNDERLYING STOCK': 'X ISHARES A50'},\n",
       " '02827': {'HKATS CODE': 'CS3', 'UNDERLYING STOCK': 'X WISECSI300ETF'},\n",
       " '02828': {'HKATS CODE': 'HCF', 'UNDERLYING STOCK': 'HS H-SHARE ETF'},\n",
       " '02888': {'HKATS CODE': 'STC', 'UNDERLYING STOCK': 'STANCHART'},\n",
       " '02899': {'HKATS CODE': 'ZJM', 'UNDERLYING STOCK': 'ZIJIN MINING GROUP'},\n",
       " '03188': {'HKATS CODE': 'AMC', 'UNDERLYING STOCK': 'CAM CSI300'},\n",
       " '03323': {'HKATS CODE': 'NBM', 'UNDERLYING STOCK': 'CNBM'},\n",
       " '03328': {'HKATS CODE': 'BCM', 'UNDERLYING STOCK': 'BANK OF COMM CO LTD'},\n",
       " '03333': {'HKATS CODE': 'EVG', 'UNDERLYING STOCK': 'EVERGRANDE'},\n",
       " '03800': {'HKATS CODE': 'PLE', 'UNDERLYING STOCK': 'GCL-POLY ENERGY'},\n",
       " '03888': {'HKATS CODE': 'KSO', 'UNDERLYING STOCK': 'KINGSOFT'},\n",
       " '03968': {'HKATS CODE': 'CMB', 'UNDERLYING STOCK': 'CM BANK'},\n",
       " '03988': {'HKATS CODE': 'XBC', 'UNDERLYING STOCK': 'BANK OF CHINA ($0.001)'},\n",
       " '06030': {'HKATS CODE': 'CTS', 'UNDERLYING STOCK': 'CITIC SEC'},\n",
       " '06837': {'HKATS CODE': 'HAI', 'UNDERLYING STOCK': 'HAITONG SEC'}}"
      ]
     },
     "execution_count": 5,
     "metadata": {},
     "output_type": "execute_result"
    }
   ],
   "source": [
    "code_dict"
   ]
  },
  {
   "cell_type": "code",
   "execution_count": 6,
   "metadata": {
    "nbpresent": {
     "id": "2e50d3a0-f43b-4297-9fff-ede9ecc697a0"
    }
   },
   "outputs": [
    {
     "data": {
      "text/html": [
       "<div>\n",
       "<style scoped>\n",
       "    .dataframe tbody tr th:only-of-type {\n",
       "        vertical-align: middle;\n",
       "    }\n",
       "\n",
       "    .dataframe tbody tr th {\n",
       "        vertical-align: top;\n",
       "    }\n",
       "\n",
       "    .dataframe thead th {\n",
       "        text-align: right;\n",
       "    }\n",
       "</style>\n",
       "<table border=\"1\" class=\"dataframe\">\n",
       "  <thead>\n",
       "    <tr style=\"text-align: right;\">\n",
       "      <th></th>\n",
       "      <th>CONTRACT</th>\n",
       "      <th>STRIKE PRICE</th>\n",
       "      <th>CALL/PUT</th>\n",
       "      <th>OPENING PRICE</th>\n",
       "      <th>DAILY HIGH</th>\n",
       "      <th>DAILY LOW</th>\n",
       "      <th>SETTLEMENT PRICE</th>\n",
       "      <th>CHANGE IN SETTLEMENT</th>\n",
       "      <th>IV%</th>\n",
       "      <th>VOLUME</th>\n",
       "      <th>OPEN INTEREST</th>\n",
       "      <th>CHANGE IN OI</th>\n",
       "    </tr>\n",
       "  </thead>\n",
       "  <tbody>\n",
       "    <tr>\n",
       "      <th>0</th>\n",
       "      <td>MAR18</td>\n",
       "      <td>135.00</td>\n",
       "      <td>C</td>\n",
       "      <td>0.00</td>\n",
       "      <td>0.00</td>\n",
       "      <td>0.00</td>\n",
       "      <td>156.66</td>\n",
       "      <td>+7.59</td>\n",
       "      <td>0</td>\n",
       "      <td>0</td>\n",
       "      <td>0</td>\n",
       "      <td>0</td>\n",
       "    </tr>\n",
       "    <tr>\n",
       "      <th>1</th>\n",
       "      <td>MAR18</td>\n",
       "      <td>137.50</td>\n",
       "      <td>C</td>\n",
       "      <td>0.00</td>\n",
       "      <td>0.00</td>\n",
       "      <td>0.00</td>\n",
       "      <td>154.17</td>\n",
       "      <td>+7.60</td>\n",
       "      <td>81</td>\n",
       "      <td>0</td>\n",
       "      <td>0</td>\n",
       "      <td>0</td>\n",
       "    </tr>\n",
       "    <tr>\n",
       "      <th>2</th>\n",
       "      <td>MAR18</td>\n",
       "      <td>140.00</td>\n",
       "      <td>C</td>\n",
       "      <td>0.00</td>\n",
       "      <td>0.00</td>\n",
       "      <td>0.00</td>\n",
       "      <td>151.67</td>\n",
       "      <td>+7.60</td>\n",
       "      <td>77</td>\n",
       "      <td>0</td>\n",
       "      <td>0</td>\n",
       "      <td>0</td>\n",
       "    </tr>\n",
       "    <tr>\n",
       "      <th>3</th>\n",
       "      <td>MAR18</td>\n",
       "      <td>142.50</td>\n",
       "      <td>C</td>\n",
       "      <td>0.00</td>\n",
       "      <td>0.00</td>\n",
       "      <td>0.00</td>\n",
       "      <td>149.17</td>\n",
       "      <td>+7.60</td>\n",
       "      <td>72</td>\n",
       "      <td>0</td>\n",
       "      <td>0</td>\n",
       "      <td>0</td>\n",
       "    </tr>\n",
       "    <tr>\n",
       "      <th>4</th>\n",
       "      <td>MAR18</td>\n",
       "      <td>145.00</td>\n",
       "      <td>C</td>\n",
       "      <td>0.00</td>\n",
       "      <td>0.00</td>\n",
       "      <td>0.00</td>\n",
       "      <td>146.67</td>\n",
       "      <td>+7.60</td>\n",
       "      <td>64</td>\n",
       "      <td>0</td>\n",
       "      <td>0</td>\n",
       "      <td>0</td>\n",
       "    </tr>\n",
       "  </tbody>\n",
       "</table>\n",
       "</div>"
      ],
      "text/plain": [
       "  CONTRACT STRIKE PRICE CALL/PUT OPENING PRICE DAILY HIGH DAILY LOW  \\\n",
       "0    MAR18       135.00        C          0.00       0.00      0.00   \n",
       "1    MAR18       137.50        C          0.00       0.00      0.00   \n",
       "2    MAR18       140.00        C          0.00       0.00      0.00   \n",
       "3    MAR18       142.50        C          0.00       0.00      0.00   \n",
       "4    MAR18       145.00        C          0.00       0.00      0.00   \n",
       "\n",
       "  SETTLEMENT PRICE CHANGE IN SETTLEMENT IV% VOLUME OPEN INTEREST CHANGE IN OI  \n",
       "0           156.66                +7.59   0      0             0            0  \n",
       "1           154.17                +7.60  81      0             0            0  \n",
       "2           151.67                +7.60  77      0             0            0  \n",
       "3           149.17                +7.60  72      0             0            0  \n",
       "4           146.67                +7.60  64      0             0            0  "
      ]
     },
     "execution_count": 6,
     "metadata": {},
     "output_type": "execute_result"
    }
   ],
   "source": [
    "call_table.head()"
   ]
  }
 ],
 "metadata": {
  "kernelspec": {
   "display_name": "Python [conda env:option]",
   "language": "python",
   "name": "conda-env-option-py"
  },
  "language_info": {
   "codemirror_mode": {
    "name": "ipython",
    "version": 3
   },
   "file_extension": ".py",
   "mimetype": "text/x-python",
   "name": "python",
   "nbconvert_exporter": "python",
   "pygments_lexer": "ipython3",
   "version": "3.6.4"
  }
 },
 "nbformat": 4,
 "nbformat_minor": 2
}
