{
 "cells": [
  {
   "cell_type": "code",
   "execution_count": 231,
   "metadata": {},
   "outputs": [],
   "source": [
    "import pandas as pd\n",
    "import csv\n",
    "%run ./helper/helper.py # import ./helper/helper.py"
   ]
  },
  {
   "cell_type": "code",
   "execution_count": 232,
   "metadata": {},
   "outputs": [],
   "source": [
    "option_data = option_data_mining('./test_data/dqe180301.csv')"
   ]
  },
  {
   "cell_type": "code",
   "execution_count": 233,
   "metadata": {},
   "outputs": [],
   "source": [
    "option_summary = option_data.summary()\n",
    "code_dict = option_data.code_dictionary()\n",
    "top_10_trade = option_data.top_10_traded()\n",
    "top_5_up = option_data.top_5_up()\n",
    "top_5_down = option_data.top_5_down()"
   ]
  },
  {
   "cell_type": "code",
   "execution_count": 247,
   "metadata": {},
   "outputs": [],
   "source": [
    "call_table = []\n",
    "put_table = []\n",
    "with open('./test_data/dqe180301.csv', 'r') as csvfile:\n",
    "    stock = 'X ISHARES A50'\n",
    "    call = False # checking which part to start saving call table\n",
    "    put = False  # checking which part to start saving put table\n",
    "    csvreader = csv.reader(csvfile)\n",
    "    for row in csvreader:\n",
    "        if not (row):\n",
    "            continue\n",
    "        ## finding call table ##\n",
    "        if stock in row[0]:\n",
    "            call = True #'found'\n",
    "            continue\n",
    "        if 'TOTAL CALL' in row:\n",
    "            call = False \n",
    "            put = True ## starting to find put table\n",
    "            continue\n",
    "        ## finding call table ##\n",
    "        if 'TOTAL PUT' in row:\n",
    "            break ## end of searching\n",
    "        \n",
    "        if call: #append to call table\n",
    "            call_table.append(row)\n",
    "        \n",
    "        if put:  #append to put table\n",
    "            put_table.append(row)\n"
   ]
  },
  {
   "cell_type": "code",
   "execution_count": 248,
   "metadata": {},
   "outputs": [
    {
     "data": {
      "text/plain": [
       "['', '', '', '', '', '', '', 'TOTAL CALL', '', '1161', '23143', '+871']"
      ]
     },
     "execution_count": 248,
     "metadata": {},
     "output_type": "execute_result"
    }
   ],
   "source": [
    "call_table[-1]"
   ]
  }
 ],
 "metadata": {
  "kernelspec": {
   "display_name": "Python [conda env:option]",
   "language": "python",
   "name": "conda-env-option-py"
  },
  "language_info": {
   "codemirror_mode": {
    "name": "ipython",
    "version": 3
   },
   "file_extension": ".py",
   "mimetype": "text/x-python",
   "name": "python",
   "nbconvert_exporter": "python",
   "pygments_lexer": "ipython3",
   "version": "3.6.4"
  }
 },
 "nbformat": 4,
 "nbformat_minor": 2
}
